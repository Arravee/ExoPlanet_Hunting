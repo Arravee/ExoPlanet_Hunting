{
  "nbformat": 4,
  "nbformat_minor": 0,
  "metadata": {
    "colab": {
      "provenance": [],
      "collapsed_sections": [],
      "machine_shape": "hm"
    },
    "kernelspec": {
      "name": "python3",
      "display_name": "Python 3"
    },
    "language_info": {
      "name": "python"
    },
    "accelerator": "GPU",
    "gpuClass": "standard"
  },
  "cells": [
    {
      "cell_type": "markdown",
      "source": [
        "## Github URL\n",
        "\n",
        "---\n",
        "\n",
        "https://github.com/Arravee/ExoPlanet_Hunting"
      ],
      "metadata": {
        "id": "WSjCE31KfPP-"
      }
    },
    {
      "cell_type": "markdown",
      "source": [
        "## Dataset Description\n",
        "\n",
        "In this report, we will be looking at a dataset covering over 6000 stars. The dataset records readings of flux for each star 3197 times. By looking at the recordings we hope to label if a star has an exoplanet or not, \"2\" and \"1\" respectively. We are essentially trying to create a NN that can utilize the exoplanet transit method, i.e. when an exoplanet transits across a star we expect to see a dip in flux. For a more in-depth explanation please see: https://www.paulanthonywilson.com/exoplanets/exoplanet-detection-techniques/the-exoplanet-transit-method/. This data is directly sourced from the Miluski Archive, an archive of data from the K2 mission, a NASA mission that is added onto the work of the Kepler mission. This type of program is extremely useful in helping astronomers comb through thousands if not millions of data points, especially now that JWST is also in orbit.\n",
        "\n"
      ],
      "metadata": {
        "id": "KhjjJwf2_2kF"
      }
    },
    {
      "cell_type": "code",
      "source": [
        "import numpy as np\n",
        "import pandas as pd\n",
        "import os\n",
        "import sys\n",
        "import multiprocessing\n",
        "\n",
        "import matplotlib.image as mpimg\n",
        "import matplotlib.pyplot as plt\n",
        "from scipy.ndimage.filters import uniform_filter1d\n",
        "\n",
        "import warnings\n",
        "warnings.filterwarnings('ignore')"
      ],
      "metadata": {
        "id": "dPI-3PRe_y98"
      },
      "execution_count": null,
      "outputs": []
    },
    {
      "cell_type": "code",
      "source": [
        "import tensorflow as tf\n",
        "from tensorflow.keras.models import Sequential\n",
        "from tensorflow import keras\n",
        "from tensorflow.keras import layers\n",
        "from keras.layers import Dense, Activation, Flatten, Dropout, BatchNormalization, Input, concatenate\n",
        "from keras.layers import Conv1D, MaxPool1D\n",
        "from keras import regularizers, optimizers\n",
        "from keras.layers import PReLU\n",
        "from keras.initializers import Constant\n",
        "\n",
        "from keras.models import Sequential, Model,load_model\n",
        "\n",
        "from sklearn.model_selection import train_test_split\n"
      ],
      "metadata": {
        "id": "Mzneq5yyAAad"
      },
      "execution_count": null,
      "outputs": []
    },
    {
      "cell_type": "markdown",
      "source": [
        "## EDA"
      ],
      "metadata": {
        "id": "s055Gcb1AF7e"
      }
    },
    {
      "cell_type": "code",
      "source": [
        "#Import the Dataset and get a general initial look at it, change path according to your system. I am creating this notebook in Colab so I will be pulling from Google Drive.\n",
        "train_df = pd.read_csv('/content/drive/MyDrive/exoTrain.csv')\n",
        "print(train_df.shape)\n",
        "train_df.head()"
      ],
      "metadata": {
        "colab": {
          "base_uri": "https://localhost:8080/",
          "height": 317
        },
        "id": "EwyWie1_AD0U",
        "outputId": "b4f1470b-60fd-4226-feca-979f5dcc9d57"
      },
      "execution_count": null,
      "outputs": [
        {
          "output_type": "stream",
          "name": "stdout",
          "text": [
            "(5087, 3198)\n"
          ]
        },
        {
          "output_type": "execute_result",
          "data": {
            "text/plain": [
              "   LABEL   FLUX.1   FLUX.2   FLUX.3   FLUX.4   FLUX.5   FLUX.6  FLUX.7  \\\n",
              "0      2    93.85    83.81    20.10   -26.98   -39.56  -124.71 -135.18   \n",
              "1      2   -38.88   -33.83   -58.54   -40.09   -79.31   -72.81  -86.55   \n",
              "2      2   532.64   535.92   513.73   496.92   456.45   466.00  464.50   \n",
              "3      2   326.52   347.39   302.35   298.13   317.74   312.70  322.33   \n",
              "4      2 -1107.21 -1112.59 -1118.95 -1095.10 -1057.55 -1034.48 -998.34   \n",
              "\n",
              "    FLUX.8  FLUX.9  ...  FLUX.3188  FLUX.3189  FLUX.3190  FLUX.3191  \\\n",
              "0   -96.27  -79.89  ...     -78.07    -102.15    -102.15      25.13   \n",
              "1   -85.33  -83.97  ...      -3.28     -32.21     -32.21     -24.89   \n",
              "2   486.39  436.56  ...     -71.69      13.31      13.31     -29.89   \n",
              "3   311.31  312.42  ...       5.71      -3.73      -3.73      30.05   \n",
              "4 -1022.71 -989.57  ...    -594.37    -401.66    -401.66    -357.24   \n",
              "\n",
              "   FLUX.3192  FLUX.3193  FLUX.3194  FLUX.3195  FLUX.3196  FLUX.3197  \n",
              "0      48.57      92.54      39.32      61.42       5.08     -39.54  \n",
              "1      -4.86       0.76     -11.70       6.46      16.00      19.93  \n",
              "2     -20.88       5.06     -11.80     -28.91     -70.02     -96.67  \n",
              "3      20.03     -12.67      -8.77     -17.31     -17.35      13.98  \n",
              "4    -443.76    -438.54    -399.71    -384.65    -411.79    -510.54  \n",
              "\n",
              "[5 rows x 3198 columns]"
            ],
            "text/html": [
              "\n",
              "  <div id=\"df-aa480031-0096-4f56-9412-537d022fc1b4\">\n",
              "    <div class=\"colab-df-container\">\n",
              "      <div>\n",
              "<style scoped>\n",
              "    .dataframe tbody tr th:only-of-type {\n",
              "        vertical-align: middle;\n",
              "    }\n",
              "\n",
              "    .dataframe tbody tr th {\n",
              "        vertical-align: top;\n",
              "    }\n",
              "\n",
              "    .dataframe thead th {\n",
              "        text-align: right;\n",
              "    }\n",
              "</style>\n",
              "<table border=\"1\" class=\"dataframe\">\n",
              "  <thead>\n",
              "    <tr style=\"text-align: right;\">\n",
              "      <th></th>\n",
              "      <th>LABEL</th>\n",
              "      <th>FLUX.1</th>\n",
              "      <th>FLUX.2</th>\n",
              "      <th>FLUX.3</th>\n",
              "      <th>FLUX.4</th>\n",
              "      <th>FLUX.5</th>\n",
              "      <th>FLUX.6</th>\n",
              "      <th>FLUX.7</th>\n",
              "      <th>FLUX.8</th>\n",
              "      <th>FLUX.9</th>\n",
              "      <th>...</th>\n",
              "      <th>FLUX.3188</th>\n",
              "      <th>FLUX.3189</th>\n",
              "      <th>FLUX.3190</th>\n",
              "      <th>FLUX.3191</th>\n",
              "      <th>FLUX.3192</th>\n",
              "      <th>FLUX.3193</th>\n",
              "      <th>FLUX.3194</th>\n",
              "      <th>FLUX.3195</th>\n",
              "      <th>FLUX.3196</th>\n",
              "      <th>FLUX.3197</th>\n",
              "    </tr>\n",
              "  </thead>\n",
              "  <tbody>\n",
              "    <tr>\n",
              "      <th>0</th>\n",
              "      <td>2</td>\n",
              "      <td>93.85</td>\n",
              "      <td>83.81</td>\n",
              "      <td>20.10</td>\n",
              "      <td>-26.98</td>\n",
              "      <td>-39.56</td>\n",
              "      <td>-124.71</td>\n",
              "      <td>-135.18</td>\n",
              "      <td>-96.27</td>\n",
              "      <td>-79.89</td>\n",
              "      <td>...</td>\n",
              "      <td>-78.07</td>\n",
              "      <td>-102.15</td>\n",
              "      <td>-102.15</td>\n",
              "      <td>25.13</td>\n",
              "      <td>48.57</td>\n",
              "      <td>92.54</td>\n",
              "      <td>39.32</td>\n",
              "      <td>61.42</td>\n",
              "      <td>5.08</td>\n",
              "      <td>-39.54</td>\n",
              "    </tr>\n",
              "    <tr>\n",
              "      <th>1</th>\n",
              "      <td>2</td>\n",
              "      <td>-38.88</td>\n",
              "      <td>-33.83</td>\n",
              "      <td>-58.54</td>\n",
              "      <td>-40.09</td>\n",
              "      <td>-79.31</td>\n",
              "      <td>-72.81</td>\n",
              "      <td>-86.55</td>\n",
              "      <td>-85.33</td>\n",
              "      <td>-83.97</td>\n",
              "      <td>...</td>\n",
              "      <td>-3.28</td>\n",
              "      <td>-32.21</td>\n",
              "      <td>-32.21</td>\n",
              "      <td>-24.89</td>\n",
              "      <td>-4.86</td>\n",
              "      <td>0.76</td>\n",
              "      <td>-11.70</td>\n",
              "      <td>6.46</td>\n",
              "      <td>16.00</td>\n",
              "      <td>19.93</td>\n",
              "    </tr>\n",
              "    <tr>\n",
              "      <th>2</th>\n",
              "      <td>2</td>\n",
              "      <td>532.64</td>\n",
              "      <td>535.92</td>\n",
              "      <td>513.73</td>\n",
              "      <td>496.92</td>\n",
              "      <td>456.45</td>\n",
              "      <td>466.00</td>\n",
              "      <td>464.50</td>\n",
              "      <td>486.39</td>\n",
              "      <td>436.56</td>\n",
              "      <td>...</td>\n",
              "      <td>-71.69</td>\n",
              "      <td>13.31</td>\n",
              "      <td>13.31</td>\n",
              "      <td>-29.89</td>\n",
              "      <td>-20.88</td>\n",
              "      <td>5.06</td>\n",
              "      <td>-11.80</td>\n",
              "      <td>-28.91</td>\n",
              "      <td>-70.02</td>\n",
              "      <td>-96.67</td>\n",
              "    </tr>\n",
              "    <tr>\n",
              "      <th>3</th>\n",
              "      <td>2</td>\n",
              "      <td>326.52</td>\n",
              "      <td>347.39</td>\n",
              "      <td>302.35</td>\n",
              "      <td>298.13</td>\n",
              "      <td>317.74</td>\n",
              "      <td>312.70</td>\n",
              "      <td>322.33</td>\n",
              "      <td>311.31</td>\n",
              "      <td>312.42</td>\n",
              "      <td>...</td>\n",
              "      <td>5.71</td>\n",
              "      <td>-3.73</td>\n",
              "      <td>-3.73</td>\n",
              "      <td>30.05</td>\n",
              "      <td>20.03</td>\n",
              "      <td>-12.67</td>\n",
              "      <td>-8.77</td>\n",
              "      <td>-17.31</td>\n",
              "      <td>-17.35</td>\n",
              "      <td>13.98</td>\n",
              "    </tr>\n",
              "    <tr>\n",
              "      <th>4</th>\n",
              "      <td>2</td>\n",
              "      <td>-1107.21</td>\n",
              "      <td>-1112.59</td>\n",
              "      <td>-1118.95</td>\n",
              "      <td>-1095.10</td>\n",
              "      <td>-1057.55</td>\n",
              "      <td>-1034.48</td>\n",
              "      <td>-998.34</td>\n",
              "      <td>-1022.71</td>\n",
              "      <td>-989.57</td>\n",
              "      <td>...</td>\n",
              "      <td>-594.37</td>\n",
              "      <td>-401.66</td>\n",
              "      <td>-401.66</td>\n",
              "      <td>-357.24</td>\n",
              "      <td>-443.76</td>\n",
              "      <td>-438.54</td>\n",
              "      <td>-399.71</td>\n",
              "      <td>-384.65</td>\n",
              "      <td>-411.79</td>\n",
              "      <td>-510.54</td>\n",
              "    </tr>\n",
              "  </tbody>\n",
              "</table>\n",
              "<p>5 rows × 3198 columns</p>\n",
              "</div>\n",
              "      <button class=\"colab-df-convert\" onclick=\"convertToInteractive('df-aa480031-0096-4f56-9412-537d022fc1b4')\"\n",
              "              title=\"Convert this dataframe to an interactive table.\"\n",
              "              style=\"display:none;\">\n",
              "        \n",
              "  <svg xmlns=\"http://www.w3.org/2000/svg\" height=\"24px\"viewBox=\"0 0 24 24\"\n",
              "       width=\"24px\">\n",
              "    <path d=\"M0 0h24v24H0V0z\" fill=\"none\"/>\n",
              "    <path d=\"M18.56 5.44l.94 2.06.94-2.06 2.06-.94-2.06-.94-.94-2.06-.94 2.06-2.06.94zm-11 1L8.5 8.5l.94-2.06 2.06-.94-2.06-.94L8.5 2.5l-.94 2.06-2.06.94zm10 10l.94 2.06.94-2.06 2.06-.94-2.06-.94-.94-2.06-.94 2.06-2.06.94z\"/><path d=\"M17.41 7.96l-1.37-1.37c-.4-.4-.92-.59-1.43-.59-.52 0-1.04.2-1.43.59L10.3 9.45l-7.72 7.72c-.78.78-.78 2.05 0 2.83L4 21.41c.39.39.9.59 1.41.59.51 0 1.02-.2 1.41-.59l7.78-7.78 2.81-2.81c.8-.78.8-2.07 0-2.86zM5.41 20L4 18.59l7.72-7.72 1.47 1.35L5.41 20z\"/>\n",
              "  </svg>\n",
              "      </button>\n",
              "      \n",
              "  <style>\n",
              "    .colab-df-container {\n",
              "      display:flex;\n",
              "      flex-wrap:wrap;\n",
              "      gap: 12px;\n",
              "    }\n",
              "\n",
              "    .colab-df-convert {\n",
              "      background-color: #E8F0FE;\n",
              "      border: none;\n",
              "      border-radius: 50%;\n",
              "      cursor: pointer;\n",
              "      display: none;\n",
              "      fill: #1967D2;\n",
              "      height: 32px;\n",
              "      padding: 0 0 0 0;\n",
              "      width: 32px;\n",
              "    }\n",
              "\n",
              "    .colab-df-convert:hover {\n",
              "      background-color: #E2EBFA;\n",
              "      box-shadow: 0px 1px 2px rgba(60, 64, 67, 0.3), 0px 1px 3px 1px rgba(60, 64, 67, 0.15);\n",
              "      fill: #174EA6;\n",
              "    }\n",
              "\n",
              "    [theme=dark] .colab-df-convert {\n",
              "      background-color: #3B4455;\n",
              "      fill: #D2E3FC;\n",
              "    }\n",
              "\n",
              "    [theme=dark] .colab-df-convert:hover {\n",
              "      background-color: #434B5C;\n",
              "      box-shadow: 0px 1px 3px 1px rgba(0, 0, 0, 0.15);\n",
              "      filter: drop-shadow(0px 1px 2px rgba(0, 0, 0, 0.3));\n",
              "      fill: #FFFFFF;\n",
              "    }\n",
              "  </style>\n",
              "\n",
              "      <script>\n",
              "        const buttonEl =\n",
              "          document.querySelector('#df-aa480031-0096-4f56-9412-537d022fc1b4 button.colab-df-convert');\n",
              "        buttonEl.style.display =\n",
              "          google.colab.kernel.accessAllowed ? 'block' : 'none';\n",
              "\n",
              "        async function convertToInteractive(key) {\n",
              "          const element = document.querySelector('#df-aa480031-0096-4f56-9412-537d022fc1b4');\n",
              "          const dataTable =\n",
              "            await google.colab.kernel.invokeFunction('convertToInteractive',\n",
              "                                                     [key], {});\n",
              "          if (!dataTable) return;\n",
              "\n",
              "          const docLinkHtml = 'Like what you see? Visit the ' +\n",
              "            '<a target=\"_blank\" href=https://colab.research.google.com/notebooks/data_table.ipynb>data table notebook</a>'\n",
              "            + ' to learn more about interactive tables.';\n",
              "          element.innerHTML = '';\n",
              "          dataTable['output_type'] = 'display_data';\n",
              "          await google.colab.output.renderOutput(dataTable, element);\n",
              "          const docLink = document.createElement('div');\n",
              "          docLink.innerHTML = docLinkHtml;\n",
              "          element.appendChild(docLink);\n",
              "        }\n",
              "      </script>\n",
              "    </div>\n",
              "  </div>\n",
              "  "
            ]
          },
          "metadata": {},
          "execution_count": 51
        }
      ]
    },
    {
      "cell_type": "code",
      "source": [
        "#Now let's look at value counts. This is important because we have worked with heavily skewed data berfore and\n",
        "#if there a low amount of positive/negative samples we will need to adjust the ratio before plugging the data into \n",
        "#our future models.\n",
        "\n",
        "train_df['LABEL'].value_counts()"
      ],
      "metadata": {
        "colab": {
          "base_uri": "https://localhost:8080/"
        },
        "id": "9REjj3YSAMBA",
        "outputId": "e94e9002-b235-46e3-ff37-cb5e1e4eac38"
      },
      "execution_count": null,
      "outputs": [
        {
          "output_type": "execute_result",
          "data": {
            "text/plain": [
              "1    5050\n",
              "2      37\n",
              "Name: LABEL, dtype: int64"
            ]
          },
          "metadata": {},
          "execution_count": 52
        }
      ]
    },
    {
      "cell_type": "code",
      "source": [
        "train_df['LABEL'].value_counts().plot(kind='pie',grid=True,title='Labels', autopct='%1.1f%%')"
      ],
      "metadata": {
        "colab": {
          "base_uri": "https://localhost:8080/",
          "height": 281
        },
        "id": "sP2A5DczANvi",
        "outputId": "5897eae5-0aeb-4452-d4f4-06a36a5c9010"
      },
      "execution_count": null,
      "outputs": [
        {
          "output_type": "execute_result",
          "data": {
            "text/plain": [
              "<matplotlib.axes._subplots.AxesSubplot at 0x7fa224150490>"
            ]
          },
          "metadata": {},
          "execution_count": 80
        },
        {
          "output_type": "display_data",
          "data": {
            "text/plain": [
              "<Figure size 432x288 with 1 Axes>"
            ],
            "image/png": "[encoded data removed]"
          },
          "metadata": {}
        }
      ]
    },
    {
      "cell_type": "markdown",
      "source": [
        "The proportion of positive to negative cases is extremely skewed. However, this is somewhat expected with this type of dataset. It is very difficult to detect small exoplanets with the transit method and as noted in a 2008 paper by Cumming, Butler, et. al., \"The Keck Planet Search: Detectability and the Minimum Mass and Orbital Period Distribution of Extrasolar Planets\", only 3-4% of Sun-like stars have a \"giant\" planet.\n",
        "\n",
        "To adjust to this skewed dataset we will use a technique called augmentation. This allows us to repeatedly use the positive samples to get a relatively equal distribution in each batch. Essentially we are rotating stars in and out of our batches to keep a balanced proportion.\n",
        "\n",
        "Our first step is to split our labels from the flux and put them into an array for our model to read."
      ],
      "metadata": {
        "id": "jOaH4nnmXTIb"
      }
    },
    {
      "cell_type": "code",
      "source": [
        "y = train_df['LABEL'].to_numpy()\n",
        "y_new = np.array([[i - 1] for i in y])\n",
        "y_new[:20]"
      ],
      "metadata": {
        "colab": {
          "base_uri": "https://localhost:8080/"
        },
        "id": "-e07pRH5G2na",
        "outputId": "c6dad781-6c36-4e7a-f6fb-a7dc90258708"
      },
      "execution_count": null,
      "outputs": [
        {
          "output_type": "execute_result",
          "data": {
            "text/plain": [
              "array([[1],\n",
              "       [1],\n",
              "       [1],\n",
              "       [1],\n",
              "       [1],\n",
              "       [1],\n",
              "       [1],\n",
              "       [1],\n",
              "       [1],\n",
              "       [1],\n",
              "       [1],\n",
              "       [1],\n",
              "       [1],\n",
              "       [1],\n",
              "       [1],\n",
              "       [1],\n",
              "       [1],\n",
              "       [1],\n",
              "       [1],\n",
              "       [1]])"
            ]
          },
          "metadata": {},
          "execution_count": 102
        }
      ]
    },
    {
      "cell_type": "code",
      "source": [
        "X = train_df.loc[:, train_df.columns.drop('LABEL')].to_numpy()\n",
        "X"
      ],
      "metadata": {
        "colab": {
          "base_uri": "https://localhost:8080/"
        },
        "id": "PPOUZ_k7G9Oy",
        "outputId": "4ba29ec9-8ef7-4356-ded3-595af1ee3a80"
      },
      "execution_count": null,
      "outputs": [
        {
          "output_type": "execute_result",
          "data": {
            "text/plain": [
              "array([[ 93.85,  83.81,  20.1 , ...,  61.42,   5.08, -39.54],\n",
              "       [-38.88, -33.83, -58.54, ...,   6.46,  16.  ,  19.93],\n",
              "       [532.64, 535.92, 513.73, ..., -28.91, -70.02, -96.67],\n",
              "       ...,\n",
              "       [273.39, 278.  , 261.73, ...,  88.42,  79.07,  79.43],\n",
              "       [  3.82,   2.09,  -3.29, ..., -14.55,  -6.41,  -2.55],\n",
              "       [323.28, 306.36, 293.16, ..., -16.72, -14.09,  27.82]])"
            ]
          },
          "metadata": {},
          "execution_count": 103
        }
      ]
    },
    {
      "cell_type": "code",
      "source": [
        "X.shape"
      ],
      "metadata": {
        "colab": {
          "base_uri": "https://localhost:8080/"
        },
        "id": "NQryd6mdFZEp",
        "outputId": "4d6ae221-d02c-46d9-afc5-c75a7041a813"
      },
      "execution_count": null,
      "outputs": [
        {
          "output_type": "execute_result",
          "data": {
            "text/plain": [
              "(5087, 3197)"
            ]
          },
          "metadata": {},
          "execution_count": 104
        }
      ]
    },
    {
      "cell_type": "markdown",
      "source": [],
      "metadata": {
        "id": "POfUXodGARUY"
      }
    },
    {
      "cell_type": "markdown",
      "source": [
        "Our next step is to split our data into a training and validation set for our model"
      ],
      "metadata": {
        "id": "LXQ0P6AAEX5D"
      }
    },
    {
      "cell_type": "code",
      "source": [
        "x_train, x_test, y_train, y_test = train_test_split(X, y_new, test_size=0.3, random_state=42)"
      ],
      "metadata": {
        "id": "bBy6nsSZAPjU"
      },
      "execution_count": null,
      "outputs": []
    },
    {
      "cell_type": "code",
      "source": [
        "y_train"
      ],
      "metadata": {
        "colab": {
          "base_uri": "https://localhost:8080/"
        },
        "id": "qH1eO6y-ED36",
        "outputId": "1912b8cc-4f92-4e0d-adb1-60445b2ba717"
      },
      "execution_count": null,
      "outputs": [
        {
          "output_type": "execute_result",
          "data": {
            "text/plain": [
              "array([[0],\n",
              "       [0],\n",
              "       [0],\n",
              "       ...,\n",
              "       [0],\n",
              "       [0],\n",
              "       [0]])"
            ]
          },
          "metadata": {},
          "execution_count": 106
        }
      ]
    },
    {
      "cell_type": "markdown",
      "source": [
        "Finally before moving onto creating our augmentation we will normalize the data."
      ],
      "metadata": {
        "id": "3Pwd2Se_X61A"
      }
    },
    {
      "cell_type": "code",
      "source": [
        "x_train = ((x_train - np.mean(x_train, axis=1).reshape(-1,1)) / \n",
        "           np.std(x_train, axis=1).reshape(-1,1))\n",
        "x_train = np.stack([x_train, uniform_filter1d(x_train, axis=1, size=200)], axis=2)"
      ],
      "metadata": {
        "id": "YMTV8SVWHyR_"
      },
      "execution_count": null,
      "outputs": []
    },
    {
      "cell_type": "code",
      "source": [
        "len(x_train)"
      ],
      "metadata": {
        "colab": {
          "base_uri": "https://localhost:8080/"
        },
        "id": "P0S2Fl2wG9IC",
        "outputId": "6e392834-16b6-4316-d16d-1fe93c83bc7b"
      },
      "execution_count": null,
      "outputs": [
        {
          "output_type": "execute_result",
          "data": {
            "text/plain": [
              "3560"
            ]
          },
          "metadata": {},
          "execution_count": 108
        }
      ]
    },
    {
      "cell_type": "code",
      "source": [
        "len(x_test)"
      ],
      "metadata": {
        "colab": {
          "base_uri": "https://localhost:8080/"
        },
        "id": "Z1XB4AySIA2W",
        "outputId": "c113d9d4-52fe-488c-a813-c6c4de466e4a"
      },
      "execution_count": null,
      "outputs": [
        {
          "output_type": "execute_result",
          "data": {
            "text/plain": [
              "1527"
            ]
          },
          "metadata": {},
          "execution_count": 109
        }
      ]
    },
    {
      "cell_type": "code",
      "source": [
        "x_test = ((x_test - np.mean(x_test, axis=1).reshape(-1,1)) / \n",
        "          np.std(x_test, axis=1).reshape(-1,1))\n",
        "x_test = np.stack([x_test, uniform_filter1d(x_test, axis=1, size=200)], axis=2)"
      ],
      "metadata": {
        "id": "i5lCLyQtGBSi"
      },
      "execution_count": null,
      "outputs": []
    },
    {
      "cell_type": "code",
      "source": [
        "x_train.shape[1:]"
      ],
      "metadata": {
        "colab": {
          "base_uri": "https://localhost:8080/"
        },
        "id": "yx3BOI0RHBNj",
        "outputId": "832dc6eb-e358-4f7a-c4b9-f572133b0410"
      },
      "execution_count": null,
      "outputs": [
        {
          "output_type": "execute_result",
          "data": {
            "text/plain": [
              "(3197, 2)"
            ]
          },
          "metadata": {},
          "execution_count": 111
        }
      ]
    },
    {
      "cell_type": "code",
      "source": [
        "x_test.shape[1:]"
      ],
      "metadata": {
        "colab": {
          "base_uri": "https://localhost:8080/"
        },
        "id": "9_gCz7TlH4rz",
        "outputId": "111a5eb2-1784-4036-f57b-d8274a123f70"
      },
      "execution_count": null,
      "outputs": [
        {
          "output_type": "execute_result",
          "data": {
            "text/plain": [
              "(3197, 2)"
            ]
          },
          "metadata": {},
          "execution_count": 112
        }
      ]
    },
    {
      "cell_type": "code",
      "source": [
        "def batch_generator(x_train, y_train, batch_size=32):\n",
        "    \"\"\"\n",
        "    Gives equal number of positive and negative samples, and rotates them randomly in time\n",
        "    \"\"\"\n",
        "    half_batch = batch_size // 2\n",
        "    x_batch = np.empty((batch_size, x_train.shape[1], x_train.shape[2]), dtype='float32')\n",
        "    y_batch = np.empty((batch_size, y_train.shape[1]), dtype='float32')\n",
        "    \n",
        "    yes_idx = np.where(y_train[:,0] == 1.)[0]\n",
        "    non_idx = np.where(y_train[:,0] == 0.)[0]\n",
        "    \n",
        "    while True:\n",
        "        np.random.shuffle(yes_idx)\n",
        "        np.random.shuffle(non_idx)\n",
        "    \n",
        "        x_batch[:half_batch] = x_train[yes_idx[:half_batch]]\n",
        "        x_batch[half_batch:] = x_train[non_idx[half_batch:batch_size]]\n",
        "        y_batch[:half_batch] = y_train[yes_idx[:half_batch]]\n",
        "        y_batch[half_batch:] = y_train[non_idx[half_batch:batch_size]]\n",
        "    \n",
        "        for i in range(batch_size):\n",
        "            sz = np.random.randint(x_batch.shape[1])\n",
        "            x_batch[i] = np.roll(x_batch[i], sz, axis = 0)\n",
        "     \n",
        "        yield x_batch, y_batch"
      ],
      "metadata": {
        "id": "JjeKV_BEAWC1"
      },
      "execution_count": null,
      "outputs": []
    },
    {
      "cell_type": "markdown",
      "source": [
        "## Model Architecture\n"
      ],
      "metadata": {
        "id": "HyocL_TIAcdG"
      }
    },
    {
      "cell_type": "markdown",
      "source": [
        "Unlike the cancer research, we did previously we will use a 1D convolution network. As we will be working with flux points and not image data each layer will also be noticeably less dense. We will use the initial model from our cancer research as a \"jump-off\" point and modify the hyperparameters as we see fit going forward. "
      ],
      "metadata": {
        "id": "nNSipPqPAjwN"
      }
    },
    {
      "cell_type": "code",
      "source": [
        "model_1 = Sequential()\n",
        "model_1.add(Conv1D(8, kernel_size=11, activation = 'relu', input_shape=x_train.shape[1:]))\n",
        "model_1.add(Conv1D(8, kernel_size=11, activation = 'relu'))\n",
        "model_1.add(MaxPool1D(strides=4))\n",
        "model_1.add(BatchNormalization())\n",
        "\n",
        "model_1.add(Conv1D(16, kernel_size=11, activation = 'relu'))\n",
        "model_1.add(Conv1D(16, kernel_size=11, activation = 'relu'))\n",
        "model_1.add(MaxPool1D(strides=4))\n",
        "model_1.add(BatchNormalization())\n",
        "\n",
        "model_1.add(Conv1D(32, kernel_size=11, activation = 'relu'))\n",
        "model_1.add(Conv1D(32, kernel_size=11, activation = 'relu'))\n",
        "model_1.add(MaxPool1D(strides=4))\n",
        "model_1.add(BatchNormalization())\n",
        "\n",
        "model_1.add(Flatten())\n",
        "model_1.add(Dense(64, activation = \"relu\"))\n",
        "model_1.add(Dropout(0.25))\n",
        "model_1.add(Dense(1, activation = 'relu'))\n",
        "\n",
        "model_1.add(Dense(64, activation = \"relu\"))\n",
        "model_1.add(Dropout(0.25))\n",
        "model_1.add(Dense(1, activation = 'relu'))\n",
        "\n",
        "model_1.add(Dropout(0.25))\n",
        "model_1.add(Dense(1, activation='sigmoid'))\n",
        "opt = tf.keras.optimizers.Adam(0.001)\n",
        "model_1.compile(loss='binary_crossentropy', optimizer=opt, metrics=['accuracy'])\n",
        "\n",
        "model_1.summary()"
      ],
      "metadata": {
        "colab": {
          "base_uri": "https://localhost:8080/"
        },
        "id": "K89P6YMbAo0g",
        "outputId": "97fab12d-1694-4088-fe8f-0f588e6e7341"
      },
      "execution_count": null,
      "outputs": [
        {
          "output_type": "stream",
          "name": "stdout",
          "text": [
            "Model: \"sequential_5\"\n",
            "_________________________________________________________________\n",
            " Layer (type)                Output Shape              Param #   \n",
            "=================================================================\n",
            " conv1d_20 (Conv1D)          (None, 3187, 8)           184       \n",
            "                                                                 \n",
            " conv1d_21 (Conv1D)          (None, 3177, 8)           712       \n",
            "                                                                 \n",
            " max_pooling1d_9 (MaxPooling  (None, 794, 8)           0         \n",
            " 1D)                                                             \n",
            "                                                                 \n",
            " batch_normalization_9 (Batc  (None, 794, 8)           32        \n",
            " hNormalization)                                                 \n",
            "                                                                 \n",
            " conv1d_22 (Conv1D)          (None, 784, 16)           1424      \n",
            "                                                                 \n",
            " conv1d_23 (Conv1D)          (None, 774, 16)           2832      \n",
            "                                                                 \n",
            " max_pooling1d_10 (MaxPoolin  (None, 194, 16)          0         \n",
            " g1D)                                                            \n",
            "                                                                 \n",
            " batch_normalization_10 (Bat  (None, 194, 16)          64        \n",
            " chNormalization)                                                \n",
            "                                                                 \n",
            " conv1d_24 (Conv1D)          (None, 184, 32)           5664      \n",
            "                                                                 \n",
            " conv1d_25 (Conv1D)          (None, 174, 32)           11296     \n",
            "                                                                 \n",
            " max_pooling1d_11 (MaxPoolin  (None, 44, 32)           0         \n",
            " g1D)                                                            \n",
            "                                                                 \n",
            " batch_normalization_11 (Bat  (None, 44, 32)           128       \n",
            " chNormalization)                                                \n",
            "                                                                 \n",
            " flatten_3 (Flatten)         (None, 1408)              0         \n",
            "                                                                 \n",
            " dense_15 (Dense)            (None, 64)                90176     \n",
            "                                                                 \n",
            " dropout_9 (Dropout)         (None, 64)                0         \n",
            "                                                                 \n",
            " dense_16 (Dense)            (None, 1)                 65        \n",
            "                                                                 \n",
            " dense_17 (Dense)            (None, 64)                128       \n",
            "                                                                 \n",
            " dropout_10 (Dropout)        (None, 64)                0         \n",
            "                                                                 \n",
            " dense_18 (Dense)            (None, 1)                 65        \n",
            "                                                                 \n",
            " dropout_11 (Dropout)        (None, 1)                 0         \n",
            "                                                                 \n",
            " dense_19 (Dense)            (None, 1)                 2         \n",
            "                                                                 \n",
            "=================================================================\n",
            "Total params: 112,772\n",
            "Trainable params: 112,660\n",
            "Non-trainable params: 112\n",
            "_________________________________________________________________\n"
          ]
        }
      ]
    },
    {
      "cell_type": "code",
      "source": [
        "CNN_1 = model_1.fit_generator(batch_generator(x_train, y_train, 32), \n",
        "                           validation_data=(x_test, y_test), \n",
        "                           verbose=2, epochs=30,\n",
        "                           steps_per_epoch=x_train.shape[1]//32)"
      ],
      "metadata": {
        "colab": {
          "base_uri": "https://localhost:8080/"
        },
        "id": "t4mxZv_DAxiD",
        "outputId": "73c212e1-81ff-4fd4-9dd9-9c82f3ecc29f"
      },
      "execution_count": null,
      "outputs": [
        {
          "output_type": "stream",
          "name": "stdout",
          "text": [
            "Epoch 1/30\n",
            "99/99 - 1s - loss: 0.3040 - accuracy: 0.8804 - val_loss: 0.2678 - val_accuracy: 0.9921 - 956ms/epoch - 10ms/step\n",
            "Epoch 2/30\n",
            "99/99 - 1s - loss: 0.3389 - accuracy: 0.8602 - val_loss: 0.2546 - val_accuracy: 0.9921 - 897ms/epoch - 9ms/step\n",
            "Epoch 3/30\n",
            "99/99 - 1s - loss: 0.3333 - accuracy: 0.8636 - val_loss: 0.2680 - val_accuracy: 0.9921 - 897ms/epoch - 9ms/step\n",
            "Epoch 4/30\n",
            "99/99 - 1s - loss: 0.3094 - accuracy: 0.8772 - val_loss: 0.2649 - val_accuracy: 0.9921 - 905ms/epoch - 9ms/step\n",
            "Epoch 5/30\n",
            "99/99 - 1s - loss: 0.3144 - accuracy: 0.8741 - val_loss: 0.2632 - val_accuracy: 0.9921 - 891ms/epoch - 9ms/step\n",
            "Epoch 6/30\n",
            "99/99 - 1s - loss: 0.3216 - accuracy: 0.8747 - val_loss: 0.2663 - val_accuracy: 0.9908 - 884ms/epoch - 9ms/step\n",
            "Epoch 7/30\n",
            "99/99 - 1s - loss: 0.3244 - accuracy: 0.8684 - val_loss: 0.2537 - val_accuracy: 0.9935 - 879ms/epoch - 9ms/step\n",
            "Epoch 8/30\n",
            "99/99 - 1s - loss: 0.2982 - accuracy: 0.8842 - val_loss: 0.2515 - val_accuracy: 0.9935 - 867ms/epoch - 9ms/step\n",
            "Epoch 9/30\n",
            "99/99 - 1s - loss: 0.3373 - accuracy: 0.8598 - val_loss: 0.2610 - val_accuracy: 0.9935 - 893ms/epoch - 9ms/step\n",
            "Epoch 10/30\n",
            "99/99 - 1s - loss: 0.3186 - accuracy: 0.8712 - val_loss: 0.2594 - val_accuracy: 0.9935 - 871ms/epoch - 9ms/step\n",
            "Epoch 11/30\n",
            "99/99 - 1s - loss: 0.2978 - accuracy: 0.8845 - val_loss: 0.2551 - val_accuracy: 0.9935 - 871ms/epoch - 9ms/step\n",
            "Epoch 12/30\n",
            "99/99 - 1s - loss: 0.3295 - accuracy: 0.8646 - val_loss: 0.2598 - val_accuracy: 0.9935 - 881ms/epoch - 9ms/step\n",
            "Epoch 13/30\n",
            "99/99 - 1s - loss: 0.3032 - accuracy: 0.8810 - val_loss: 0.2554 - val_accuracy: 0.9935 - 880ms/epoch - 9ms/step\n",
            "Epoch 14/30\n",
            "99/99 - 1s - loss: 0.3099 - accuracy: 0.8769 - val_loss: 0.2556 - val_accuracy: 0.9935 - 871ms/epoch - 9ms/step\n",
            "Epoch 15/30\n",
            "99/99 - 1s - loss: 0.3153 - accuracy: 0.8734 - val_loss: 0.2575 - val_accuracy: 0.9935 - 881ms/epoch - 9ms/step\n",
            "Epoch 16/30\n",
            "99/99 - 1s - loss: 0.3043 - accuracy: 0.8804 - val_loss: 0.2585 - val_accuracy: 0.9935 - 904ms/epoch - 9ms/step\n",
            "Epoch 17/30\n",
            "99/99 - 1s - loss: 0.2893 - accuracy: 0.8895 - val_loss: 0.2559 - val_accuracy: 0.9935 - 880ms/epoch - 9ms/step\n",
            "Epoch 18/30\n",
            "99/99 - 1s - loss: 0.3108 - accuracy: 0.8763 - val_loss: 0.2578 - val_accuracy: 0.9935 - 892ms/epoch - 9ms/step\n",
            "Epoch 19/30\n",
            "99/99 - 1s - loss: 0.3066 - accuracy: 0.8788 - val_loss: 0.2565 - val_accuracy: 0.9935 - 885ms/epoch - 9ms/step\n",
            "Epoch 20/30\n",
            "99/99 - 1s - loss: 0.2953 - accuracy: 0.8857 - val_loss: 0.2545 - val_accuracy: 0.9935 - 879ms/epoch - 9ms/step\n",
            "Epoch 21/30\n",
            "99/99 - 1s - loss: 0.3132 - accuracy: 0.8747 - val_loss: 0.2567 - val_accuracy: 0.9941 - 880ms/epoch - 9ms/step\n",
            "Epoch 22/30\n",
            "99/99 - 1s - loss: 0.3257 - accuracy: 0.8671 - val_loss: 0.2543 - val_accuracy: 0.9935 - 873ms/epoch - 9ms/step\n",
            "Epoch 23/30\n",
            "99/99 - 1s - loss: 0.3174 - accuracy: 0.8722 - val_loss: 0.2564 - val_accuracy: 0.9935 - 877ms/epoch - 9ms/step\n",
            "Epoch 24/30\n",
            "99/99 - 1s - loss: 0.3153 - accuracy: 0.8734 - val_loss: 0.2571 - val_accuracy: 0.9935 - 900ms/epoch - 9ms/step\n",
            "Epoch 25/30\n",
            "99/99 - 1s - loss: 0.3252 - accuracy: 0.8674 - val_loss: 0.2744 - val_accuracy: 0.9862 - 886ms/epoch - 9ms/step\n",
            "Epoch 26/30\n",
            "99/99 - 1s - loss: 0.3134 - accuracy: 0.8747 - val_loss: 0.2577 - val_accuracy: 0.9928 - 894ms/epoch - 9ms/step\n",
            "Epoch 27/30\n",
            "99/99 - 1s - loss: 0.3126 - accuracy: 0.8750 - val_loss: 0.2617 - val_accuracy: 0.9935 - 904ms/epoch - 9ms/step\n",
            "Epoch 28/30\n",
            "99/99 - 1s - loss: 0.3219 - accuracy: 0.8693 - val_loss: 0.2689 - val_accuracy: 0.9941 - 892ms/epoch - 9ms/step\n",
            "Epoch 29/30\n",
            "99/99 - 1s - loss: 0.3156 - accuracy: 0.8744 - val_loss: 0.2504 - val_accuracy: 0.9921 - 883ms/epoch - 9ms/step\n",
            "Epoch 30/30\n",
            "99/99 - 1s - loss: 0.3154 - accuracy: 0.8734 - val_loss: 0.2420 - val_accuracy: 0.9921 - 883ms/epoch - 9ms/step\n"
          ]
        }
      ]
    },
    {
      "cell_type": "code",
      "source": [
        "plt.plot(CNN_1.history['accuracy'])\n",
        "plt.plot(CNN_1.history['val_accuracy'])\n",
        "plt.title('model accuracy')\n",
        "plt.ylabel('accuracy')\n",
        "plt.xlabel('epoch')\n",
        "plt.legend(['train', 'val'], loc='upper left')\n",
        "plt.show()"
      ],
      "metadata": {
        "colab": {
          "base_uri": "https://localhost:8080/",
          "height": 295
        },
        "id": "iCeBAhg9-dTJ",
        "outputId": "e86441e1-a463-4325-84ce-912d01ae54a2"
      },
      "execution_count": null,
      "outputs": [
        {
          "output_type": "display_data",
          "data": {
            "text/plain": [
              "<Figure size 432x288 with 1 Axes>"
            ],
            "image/png": "[encoded data removed]"
          },
          "metadata": {
            "needs_background": "light"
          }
        }
      ]
    },
    {
      "cell_type": "code",
      "source": [
        "model_2 = Sequential()\n",
        "model_2.add(Conv1D(8, kernel_size=11, activation = 'relu', input_shape=x_train.shape[1:]))\n",
        "model_2.add(MaxPool1D(strides=4))\n",
        "model_2.add(BatchNormalization())\n",
        "\n",
        "model_2.add(Conv1D(16, kernel_size=11, activation = 'relu'))\n",
        "model_2.add(MaxPool1D(strides=4))\n",
        "model_2.add(BatchNormalization())\n",
        "\n",
        "model_2.add(Conv1D(32, kernel_size=11, activation = 'relu'))\n",
        "model_2.add(MaxPool1D(strides=4))\n",
        "model_2.add(BatchNormalization())\n",
        "\n",
        "model_2.add(Conv1D(64, kernel_size=11, activation = 'relu'))\n",
        "model_2.add(MaxPool1D(strides=4))\n",
        "model_2.add(BatchNormalization())\n",
        "\n",
        "model_2.add(Flatten())\n",
        "model_2.add(Dense(64, activation = \"relu\"))\n",
        "model_2.add(Dropout(0.5))\n",
        "model_2.add(Dense(1, activation = 'relu'))\n",
        "\n",
        "model_2.add(Dense(64, activation = \"relu\"))\n",
        "model_2.add(Dropout(0.25))\n",
        "model_2.add(Dense(1, activation = 'relu'))\n",
        "\n",
        "model_2.add(Dense(1, activation='sigmoid'))\n",
        "opt = tf.keras.optimizers.Adam(0.0005)\n",
        "model_2.compile(loss='binary_crossentropy', optimizer=opt, metrics=['accuracy'])\n",
        "\n",
        "model_2.summary()"
      ],
      "metadata": {
        "colab": {
          "base_uri": "https://localhost:8080/"
        },
        "id": "6F5JiBtUEgIi",
        "outputId": "fd3740d6-4183-4f15-8547-25841afad40e"
      },
      "execution_count": null,
      "outputs": [
        {
          "output_type": "stream",
          "name": "stdout",
          "text": [
            "Model: \"sequential_19\"\n",
            "_________________________________________________________________\n",
            " Layer (type)                Output Shape              Param #   \n",
            "=================================================================\n",
            " conv1d_106 (Conv1D)         (None, 3187, 8)           184       \n",
            "                                                                 \n",
            " max_pooling1d_52 (MaxPoolin  (None, 797, 8)           0         \n",
            " g1D)                                                            \n",
            "                                                                 \n",
            " batch_normalization_52 (Bat  (None, 797, 8)           32        \n",
            " chNormalization)                                                \n",
            "                                                                 \n",
            " conv1d_107 (Conv1D)         (None, 787, 16)           1424      \n",
            "                                                                 \n",
            " max_pooling1d_53 (MaxPoolin  (None, 197, 16)          0         \n",
            " g1D)                                                            \n",
            "                                                                 \n",
            " batch_normalization_53 (Bat  (None, 197, 16)          64        \n",
            " chNormalization)                                                \n",
            "                                                                 \n",
            " conv1d_108 (Conv1D)         (None, 187, 32)           5664      \n",
            "                                                                 \n",
            " max_pooling1d_54 (MaxPoolin  (None, 47, 32)           0         \n",
            " g1D)                                                            \n",
            "                                                                 \n",
            " batch_normalization_54 (Bat  (None, 47, 32)           128       \n",
            " chNormalization)                                                \n",
            "                                                                 \n",
            " conv1d_109 (Conv1D)         (None, 37, 64)            22592     \n",
            "                                                                 \n",
            " max_pooling1d_55 (MaxPoolin  (None, 9, 64)            0         \n",
            " g1D)                                                            \n",
            "                                                                 \n",
            " batch_normalization_55 (Bat  (None, 9, 64)            256       \n",
            " chNormalization)                                                \n",
            "                                                                 \n",
            " flatten_17 (Flatten)        (None, 576)               0         \n",
            "                                                                 \n",
            " dense_85 (Dense)            (None, 64)                36928     \n",
            "                                                                 \n",
            " dropout_46 (Dropout)        (None, 64)                0         \n",
            "                                                                 \n",
            " dense_86 (Dense)            (None, 1)                 65        \n",
            "                                                                 \n",
            " dense_87 (Dense)            (None, 64)                128       \n",
            "                                                                 \n",
            " dropout_47 (Dropout)        (None, 64)                0         \n",
            "                                                                 \n",
            " dense_88 (Dense)            (None, 1)                 65        \n",
            "                                                                 \n",
            " dense_89 (Dense)            (None, 1)                 2         \n",
            "                                                                 \n",
            "=================================================================\n",
            "Total params: 67,532\n",
            "Trainable params: 67,292\n",
            "Non-trainable params: 240\n",
            "_________________________________________________________________\n"
          ]
        }
      ]
    },
    {
      "cell_type": "code",
      "source": [
        "CNN_2 = model_2.fit_generator(batch_generator(x_train, y_train, 32), \n",
        "                           validation_data=(x_test, y_test), \n",
        "                           verbose=2, epochs=30,\n",
        "                           steps_per_epoch=x_train.shape[1]//32)"
      ],
      "metadata": {
        "colab": {
          "base_uri": "https://localhost:8080/"
        },
        "id": "6wGC6AnQFLgQ",
        "outputId": "529002c8-2a0c-4212-e52b-0e1ce9fc36f9"
      },
      "execution_count": null,
      "outputs": [
        {
          "output_type": "stream",
          "name": "stdout",
          "text": [
            "Epoch 1/30\n",
            "99/99 - 3s - loss: 0.6541 - accuracy: 0.6386 - val_loss: 0.6971 - val_accuracy: 0.1932 - 3s/epoch - 29ms/step\n",
            "Epoch 2/30\n",
            "99/99 - 1s - loss: 0.4964 - accuracy: 0.8469 - val_loss: 0.4549 - val_accuracy: 0.6542 - 807ms/epoch - 8ms/step\n",
            "Epoch 3/30\n",
            "99/99 - 1s - loss: 0.3730 - accuracy: 0.9309 - val_loss: 0.1416 - val_accuracy: 0.8847 - 812ms/epoch - 8ms/step\n",
            "Epoch 4/30\n",
            "99/99 - 1s - loss: 0.3576 - accuracy: 0.9343 - val_loss: 0.1473 - val_accuracy: 0.8756 - 810ms/epoch - 8ms/step\n",
            "Epoch 5/30\n",
            "99/99 - 1s - loss: 0.3272 - accuracy: 0.9504 - val_loss: 0.1358 - val_accuracy: 0.8985 - 810ms/epoch - 8ms/step\n",
            "Epoch 6/30\n",
            "99/99 - 1s - loss: 0.3011 - accuracy: 0.9697 - val_loss: 0.1107 - val_accuracy: 0.9162 - 814ms/epoch - 8ms/step\n",
            "Epoch 7/30\n",
            "99/99 - 1s - loss: 0.3060 - accuracy: 0.9508 - val_loss: 0.1113 - val_accuracy: 0.9214 - 806ms/epoch - 8ms/step\n",
            "Epoch 8/30\n",
            "99/99 - 1s - loss: 0.2793 - accuracy: 0.9691 - val_loss: 0.0722 - val_accuracy: 0.9646 - 799ms/epoch - 8ms/step\n",
            "Epoch 9/30\n",
            "99/99 - 1s - loss: 0.2727 - accuracy: 0.9688 - val_loss: 0.1208 - val_accuracy: 0.9175 - 807ms/epoch - 8ms/step\n",
            "Epoch 10/30\n",
            "99/99 - 1s - loss: 0.2531 - accuracy: 0.9773 - val_loss: 0.1384 - val_accuracy: 0.9011 - 809ms/epoch - 8ms/step\n",
            "Epoch 11/30\n",
            "99/99 - 1s - loss: 0.2506 - accuracy: 0.9738 - val_loss: 0.1060 - val_accuracy: 0.9358 - 875ms/epoch - 9ms/step\n",
            "Epoch 12/30\n",
            "99/99 - 1s - loss: 0.2356 - accuracy: 0.9795 - val_loss: 0.0961 - val_accuracy: 0.9496 - 937ms/epoch - 9ms/step\n",
            "Epoch 13/30\n",
            "99/99 - 1s - loss: 0.2322 - accuracy: 0.9747 - val_loss: 0.1555 - val_accuracy: 0.9103 - 926ms/epoch - 9ms/step\n",
            "Epoch 14/30\n",
            "99/99 - 1s - loss: 0.2194 - accuracy: 0.9814 - val_loss: 0.0534 - val_accuracy: 0.9797 - 934ms/epoch - 9ms/step\n",
            "Epoch 15/30\n",
            "99/99 - 1s - loss: 0.2055 - accuracy: 0.9855 - val_loss: 0.0826 - val_accuracy: 0.9679 - 1s/epoch - 10ms/step\n",
            "Epoch 16/30\n",
            "99/99 - 1s - loss: 0.2034 - accuracy: 0.9839 - val_loss: 0.0895 - val_accuracy: 0.9620 - 850ms/epoch - 9ms/step\n",
            "Epoch 17/30\n",
            "99/99 - 1s - loss: 0.1933 - accuracy: 0.9861 - val_loss: 0.0674 - val_accuracy: 0.9758 - 803ms/epoch - 8ms/step\n",
            "Epoch 18/30\n",
            "99/99 - 1s - loss: 0.1828 - accuracy: 0.9896 - val_loss: 0.0918 - val_accuracy: 0.9555 - 791ms/epoch - 8ms/step\n",
            "Epoch 19/30\n",
            "99/99 - 1s - loss: 0.1784 - accuracy: 0.9877 - val_loss: 0.0872 - val_accuracy: 0.9745 - 796ms/epoch - 8ms/step\n",
            "Epoch 20/30\n",
            "99/99 - 1s - loss: 0.1987 - accuracy: 0.9729 - val_loss: 0.0826 - val_accuracy: 0.9686 - 793ms/epoch - 8ms/step\n",
            "Epoch 21/30\n",
            "99/99 - 1s - loss: 0.1712 - accuracy: 0.9855 - val_loss: 0.0717 - val_accuracy: 0.9758 - 802ms/epoch - 8ms/step\n",
            "Epoch 22/30\n",
            "99/99 - 1s - loss: 0.1624 - accuracy: 0.9896 - val_loss: 0.0884 - val_accuracy: 0.9692 - 797ms/epoch - 8ms/step\n",
            "Epoch 23/30\n",
            "99/99 - 1s - loss: 0.1541 - accuracy: 0.9912 - val_loss: 0.0628 - val_accuracy: 0.9895 - 808ms/epoch - 8ms/step\n",
            "Epoch 24/30\n",
            "99/99 - 1s - loss: 0.1521 - accuracy: 0.9902 - val_loss: 0.0929 - val_accuracy: 0.9731 - 802ms/epoch - 8ms/step\n",
            "Epoch 25/30\n",
            "99/99 - 1s - loss: 0.1618 - accuracy: 0.9817 - val_loss: 0.0743 - val_accuracy: 0.9823 - 814ms/epoch - 8ms/step\n",
            "Epoch 26/30\n",
            "99/99 - 1s - loss: 0.1423 - accuracy: 0.9899 - val_loss: 0.0923 - val_accuracy: 0.9692 - 815ms/epoch - 8ms/step\n",
            "Epoch 27/30\n",
            "99/99 - 1s - loss: 0.1359 - accuracy: 0.9921 - val_loss: 0.0789 - val_accuracy: 0.9731 - 815ms/epoch - 8ms/step\n",
            "Epoch 28/30\n",
            "99/99 - 1s - loss: 0.1341 - accuracy: 0.9902 - val_loss: 0.0775 - val_accuracy: 0.9725 - 832ms/epoch - 8ms/step\n",
            "Epoch 29/30\n",
            "99/99 - 1s - loss: 0.1274 - accuracy: 0.9921 - val_loss: 0.0882 - val_accuracy: 0.9705 - 820ms/epoch - 8ms/step\n",
            "Epoch 30/30\n",
            "99/99 - 1s - loss: 0.1210 - accuracy: 0.9946 - val_loss: 0.0987 - val_accuracy: 0.9659 - 803ms/epoch - 8ms/step\n"
          ]
        }
      ]
    },
    {
      "cell_type": "code",
      "source": [
        "plt.plot(CNN_2.history['accuracy'])\n",
        "plt.plot(CNN_2.history['val_accuracy'])\n",
        "plt.title('model accuracy')\n",
        "plt.ylabel('accuracy')\n",
        "plt.xlabel('epoch')\n",
        "plt.legend(['train', 'val'], loc='upper left')\n",
        "plt.show()"
      ],
      "metadata": {
        "colab": {
          "base_uri": "https://localhost:8080/",
          "height": 295
        },
        "id": "tSUaNczrHc2S",
        "outputId": "1f32225a-224a-4d26-df48-6b04a151ba5b"
      },
      "execution_count": null,
      "outputs": [
        {
          "output_type": "display_data",
          "data": {
            "text/plain": [
              "<Figure size 432x288 with 1 Axes>"
            ],
            "image/png": "[encoded data removed]"
          },
          "metadata": {
            "needs_background": "light"
          }
        }
      ]
    },
    {
      "cell_type": "code",
      "source": [
        "model_3 = Sequential()\n",
        "model_3.add(Conv1D(8, kernel_size=11, activation = 'relu', input_shape=x_train.shape[1:]))\n",
        "model_3.add(MaxPool1D(strides=4))\n",
        "model_3.add(BatchNormalization())\n",
        "\n",
        "model_3.add(Conv1D(16, kernel_size=11, activation = 'relu'))\n",
        "model_3.add(MaxPool1D(strides=4))\n",
        "model_3.add(BatchNormalization())\n",
        "\n",
        "model_3.add(Conv1D(32, kernel_size=11, activation = 'relu'))\n",
        "model_3.add(MaxPool1D(strides=4))\n",
        "model_3.add(BatchNormalization())\n",
        "\n",
        "model_3.add(Flatten())\n",
        "model_3.add(Dense(64, activation = \"relu\"))\n",
        "model_3.add(Dropout(0.5))\n",
        "model_3.add(Dense(1, activation = 'relu'))\n",
        "\n",
        "model_3.add(Dense(64, activation = \"relu\"))\n",
        "model_3.add(Dropout(0.25))\n",
        "model_3.add(Dense(1, activation = 'relu'))\n",
        "\n",
        "model_3.add(Dense(1, activation='sigmoid'))\n",
        "opt = tf.keras.optimizers.SGD(learning_rate=0.1)\n",
        "model_3.compile(loss='binary_crossentropy', optimizer=opt, metrics=['accuracy'])\n",
        "\n",
        "model_3.summary()"
      ],
      "metadata": {
        "colab": {
          "base_uri": "https://localhost:8080/"
        },
        "id": "MKegfN2bIQ4v",
        "outputId": "f705aeb9-3f4d-4214-bbf5-8d3c4687db23"
      },
      "execution_count": null,
      "outputs": [
        {
          "output_type": "stream",
          "name": "stdout",
          "text": [
            "Model: \"sequential_20\"\n",
            "_________________________________________________________________\n",
            " Layer (type)                Output Shape              Param #   \n",
            "=================================================================\n",
            " conv1d_110 (Conv1D)         (None, 3187, 8)           184       \n",
            "                                                                 \n",
            " max_pooling1d_56 (MaxPoolin  (None, 797, 8)           0         \n",
            " g1D)                                                            \n",
            "                                                                 \n",
            " batch_normalization_56 (Bat  (None, 797, 8)           32        \n",
            " chNormalization)                                                \n",
            "                                                                 \n",
            " conv1d_111 (Conv1D)         (None, 787, 16)           1424      \n",
            "                                                                 \n",
            " max_pooling1d_57 (MaxPoolin  (None, 197, 16)          0         \n",
            " g1D)                                                            \n",
            "                                                                 \n",
            " batch_normalization_57 (Bat  (None, 197, 16)          64        \n",
            " chNormalization)                                                \n",
            "                                                                 \n",
            " conv1d_112 (Conv1D)         (None, 187, 32)           5664      \n",
            "                                                                 \n",
            " max_pooling1d_58 (MaxPoolin  (None, 47, 32)           0         \n",
            " g1D)                                                            \n",
            "                                                                 \n",
            " batch_normalization_58 (Bat  (None, 47, 32)           128       \n",
            " chNormalization)                                                \n",
            "                                                                 \n",
            " flatten_18 (Flatten)        (None, 1504)              0         \n",
            "                                                                 \n",
            " dense_90 (Dense)            (None, 64)                96320     \n",
            "                                                                 \n",
            " dropout_48 (Dropout)        (None, 64)                0         \n",
            "                                                                 \n",
            " dense_91 (Dense)            (None, 1)                 65        \n",
            "                                                                 \n",
            " dense_92 (Dense)            (None, 64)                128       \n",
            "                                                                 \n",
            " dropout_49 (Dropout)        (None, 64)                0         \n",
            "                                                                 \n",
            " dense_93 (Dense)            (None, 1)                 65        \n",
            "                                                                 \n",
            " dense_94 (Dense)            (None, 1)                 2         \n",
            "                                                                 \n",
            "=================================================================\n",
            "Total params: 104,076\n",
            "Trainable params: 103,964\n",
            "Non-trainable params: 112\n",
            "_________________________________________________________________\n"
          ]
        }
      ]
    },
    {
      "cell_type": "code",
      "source": [
        "CNN_3 = model_3.fit_generator(batch_generator(x_train, y_train, 32), \n",
        "                           validation_data=(x_test, y_test), \n",
        "                           verbose=2, epochs=30,\n",
        "                           steps_per_epoch=x_train.shape[1]//32)"
      ],
      "metadata": {
        "colab": {
          "base_uri": "https://localhost:8080/"
        },
        "id": "tbhCKTvfIm7Y",
        "outputId": "f1ab9384-d549-4535-cdcb-381573746462"
      },
      "execution_count": null,
      "outputs": [
        {
          "output_type": "stream",
          "name": "stdout",
          "text": [
            "Epoch 1/30\n",
            "99/99 - 2s - loss: 0.6934 - accuracy: 0.4984 - val_loss: 0.6943 - val_accuracy: 0.0079 - 2s/epoch - 20ms/step\n",
            "Epoch 2/30\n",
            "99/99 - 1s - loss: 0.6527 - accuracy: 0.6102 - val_loss: 0.7123 - val_accuracy: 0.3491 - 706ms/epoch - 7ms/step\n",
            "Epoch 3/30\n",
            "99/99 - 1s - loss: 0.5135 - accuracy: 0.7686 - val_loss: 0.5355 - val_accuracy: 0.6306 - 715ms/epoch - 7ms/step\n",
            "Epoch 4/30\n",
            "99/99 - 1s - loss: 0.4202 - accuracy: 0.8166 - val_loss: 0.7081 - val_accuracy: 0.5226 - 722ms/epoch - 7ms/step\n",
            "Epoch 5/30\n",
            "99/99 - 1s - loss: 0.3757 - accuracy: 0.8403 - val_loss: 0.3178 - val_accuracy: 0.8088 - 702ms/epoch - 7ms/step\n",
            "Epoch 6/30\n",
            "99/99 - 1s - loss: 0.2925 - accuracy: 0.8968 - val_loss: 0.4840 - val_accuracy: 0.7315 - 696ms/epoch - 7ms/step\n",
            "Epoch 7/30\n",
            "99/99 - 1s - loss: 0.2613 - accuracy: 0.9037 - val_loss: 0.5542 - val_accuracy: 0.7079 - 709ms/epoch - 7ms/step\n",
            "Epoch 8/30\n",
            "99/99 - 1s - loss: 0.2728 - accuracy: 0.9062 - val_loss: 0.3466 - val_accuracy: 0.8225 - 695ms/epoch - 7ms/step\n",
            "Epoch 9/30\n",
            "99/99 - 1s - loss: 0.1979 - accuracy: 0.9296 - val_loss: 0.2579 - val_accuracy: 0.8769 - 705ms/epoch - 7ms/step\n",
            "Epoch 10/30\n",
            "99/99 - 1s - loss: 0.2608 - accuracy: 0.9122 - val_loss: 0.1456 - val_accuracy: 0.9430 - 708ms/epoch - 7ms/step\n",
            "Epoch 11/30\n",
            "99/99 - 1s - loss: 0.1557 - accuracy: 0.9495 - val_loss: 0.1923 - val_accuracy: 0.9142 - 708ms/epoch - 7ms/step\n",
            "Epoch 12/30\n",
            "99/99 - 1s - loss: 0.2020 - accuracy: 0.9359 - val_loss: 0.1503 - val_accuracy: 0.9633 - 709ms/epoch - 7ms/step\n",
            "Epoch 13/30\n",
            "99/99 - 1s - loss: 0.2074 - accuracy: 0.9274 - val_loss: 0.1012 - val_accuracy: 0.9718 - 714ms/epoch - 7ms/step\n",
            "Epoch 14/30\n",
            "99/99 - 1s - loss: 0.1203 - accuracy: 0.9653 - val_loss: 0.1231 - val_accuracy: 0.9581 - 714ms/epoch - 7ms/step\n",
            "Epoch 15/30\n",
            "99/99 - 1s - loss: 0.0987 - accuracy: 0.9735 - val_loss: 0.1091 - val_accuracy: 0.9640 - 687ms/epoch - 7ms/step\n",
            "Epoch 16/30\n",
            "99/99 - 1s - loss: 0.0960 - accuracy: 0.9747 - val_loss: 0.1066 - val_accuracy: 0.9607 - 717ms/epoch - 7ms/step\n",
            "Epoch 17/30\n",
            "99/99 - 1s - loss: 0.0655 - accuracy: 0.9833 - val_loss: 0.1509 - val_accuracy: 0.9496 - 703ms/epoch - 7ms/step\n",
            "Epoch 18/30\n",
            "99/99 - 1s - loss: 0.0772 - accuracy: 0.9795 - val_loss: 0.0775 - val_accuracy: 0.9804 - 730ms/epoch - 7ms/step\n",
            "Epoch 19/30\n",
            "99/99 - 1s - loss: 0.0594 - accuracy: 0.9867 - val_loss: 0.0703 - val_accuracy: 0.9797 - 694ms/epoch - 7ms/step\n",
            "Epoch 20/30\n",
            "99/99 - 1s - loss: 0.0485 - accuracy: 0.9874 - val_loss: 0.0847 - val_accuracy: 0.9784 - 846ms/epoch - 9ms/step\n",
            "Epoch 21/30\n",
            "99/99 - 1s - loss: 0.0558 - accuracy: 0.9867 - val_loss: 0.2097 - val_accuracy: 0.9306 - 834ms/epoch - 8ms/step\n",
            "Epoch 22/30\n",
            "99/99 - 1s - loss: 0.0496 - accuracy: 0.9874 - val_loss: 0.0636 - val_accuracy: 0.9869 - 705ms/epoch - 7ms/step\n",
            "Epoch 23/30\n",
            "99/99 - 1s - loss: 0.0479 - accuracy: 0.9877 - val_loss: 0.1057 - val_accuracy: 0.9718 - 703ms/epoch - 7ms/step\n",
            "Epoch 24/30\n",
            "99/99 - 1s - loss: 0.0414 - accuracy: 0.9896 - val_loss: 0.0731 - val_accuracy: 0.9830 - 708ms/epoch - 7ms/step\n",
            "Epoch 25/30\n",
            "99/99 - 1s - loss: 0.0410 - accuracy: 0.9902 - val_loss: 0.0585 - val_accuracy: 0.9836 - 703ms/epoch - 7ms/step\n",
            "Epoch 26/30\n",
            "99/99 - 1s - loss: 0.0464 - accuracy: 0.9899 - val_loss: 0.0585 - val_accuracy: 0.9836 - 702ms/epoch - 7ms/step\n",
            "Epoch 27/30\n",
            "99/99 - 1s - loss: 0.0429 - accuracy: 0.9890 - val_loss: 0.1265 - val_accuracy: 0.9679 - 709ms/epoch - 7ms/step\n",
            "Epoch 28/30\n",
            "99/99 - 1s - loss: 0.0427 - accuracy: 0.9883 - val_loss: 0.0788 - val_accuracy: 0.9830 - 709ms/epoch - 7ms/step\n",
            "Epoch 29/30\n",
            "99/99 - 1s - loss: 0.0279 - accuracy: 0.9943 - val_loss: 0.0547 - val_accuracy: 0.9876 - 700ms/epoch - 7ms/step\n",
            "Epoch 30/30\n",
            "99/99 - 1s - loss: 0.0451 - accuracy: 0.9893 - val_loss: 0.0630 - val_accuracy: 0.9830 - 716ms/epoch - 7ms/step\n"
          ]
        }
      ]
    },
    {
      "cell_type": "code",
      "source": [
        "plt.plot(CNN_3.history['accuracy'])\n",
        "plt.plot(CNN_3.history['val_accuracy'])\n",
        "plt.title('model accuracy')\n",
        "plt.ylabel('accuracy')\n",
        "plt.xlabel('epoch')\n",
        "plt.legend(['train', 'val'], loc='upper left')\n",
        "plt.show()"
      ],
      "metadata": {
        "colab": {
          "base_uri": "https://localhost:8080/",
          "height": 295
        },
        "id": "UwnxwFnkP4Rt",
        "outputId": "90f98335-7a24-4c78-849a-a15c815e9ce9"
      },
      "execution_count": null,
      "outputs": [
        {
          "output_type": "display_data",
          "data": {
            "text/plain": [
              "<Figure size 432x288 with 1 Axes>"
            ],
            "image/png": "[encoded data removed]"
          },
          "metadata": {
            "needs_background": "light"
          }
        }
      ]
    },
    {
      "cell_type": "markdown",
      "source": [
        "## Results and Analysis\n",
        "\n",
        "Our first model architecture was a 3 X 2 with the final activation layer being a sigmoid function due to its probabilistic properties. We never expected this to be the final model but instead a base to compare future architectures. This model was extremely consistent throughout the epochs. However, as we have seen in previous research problems this is not always a good thing. Due to the skewed nature of the data, a model not learning could mean it is simply labeling everything as \"no-exoplanet\" and unfortunately that is the case. You can see this by replacing the model used to predict in the y_hat assignment below. \n",
        "\n",
        "In our next model, we simplified the model as it seemed to be overfitting. We changed to a 4x1 structure and the Adam optimizer value. We immediately notice the new model climbing while also having a significantly lower loss. This is good. However, we can do better.\n",
        "\n",
        "For the final attempt, we changed from the Adam optimizer to SGD. The big difference is while Adam is faster SGD tends to generalize better. Due to the significant speed of our model, the trade-off seems more than worth it. As we assumed our loss continues to do down while the model reaches high training and validation accuracy. \n",
        "\n",
        "Now we can use this model to look at our test data. \n",
        "\n"
      ],
      "metadata": {
        "id": "GsK_hlA3JLjO"
      }
    },
    {
      "cell_type": "code",
      "source": [
        "test_set = pd.read_csv('/content/drive/MyDrive/exoTest.csv')"
      ],
      "metadata": {
        "id": "0nW5DNF4doBD"
      },
      "execution_count": null,
      "outputs": []
    },
    {
      "cell_type": "code",
      "source": [
        "test_set_x = test_set.loc[:, test_set.columns.drop('LABEL')].to_numpy()"
      ],
      "metadata": {
        "id": "BD3c2kfMdWas"
      },
      "execution_count": null,
      "outputs": []
    },
    {
      "cell_type": "code",
      "source": [
        "test_set_x = ((test_set_x - np.mean(test_set_x, axis=1).reshape(-1,1)) / \n",
        "          np.std(test_set_x, axis=1).reshape(-1,1))\n",
        "test_set_x = np.stack([test_set_x, uniform_filter1d(test_set_x, axis=1, size=200)], axis=2)"
      ],
      "metadata": {
        "id": "cv1iaU09NU4M"
      },
      "execution_count": null,
      "outputs": []
    },
    {
      "cell_type": "code",
      "source": [
        "y_hat = model_3.predict(test_set_x)[:,0]"
      ],
      "metadata": {
        "id": "f8fSo_aSY-ZW"
      },
      "execution_count": null,
      "outputs": []
    },
    {
      "cell_type": "code",
      "source": [
        "int_y = test_set['LABEL'].to_numpy()\n",
        "test_set_y = np.array([[i - 1] for i in int_y])\n",
        "test_set_y[:10]"
      ],
      "metadata": {
        "colab": {
          "base_uri": "https://localhost:8080/"
        },
        "id": "WHj5chbnQyMx",
        "outputId": "c5ca0a1c-e660-420f-c05f-78e947b29be8"
      },
      "execution_count": null,
      "outputs": [
        {
          "output_type": "execute_result",
          "data": {
            "text/plain": [
              "array([[1],\n",
              "       [1],\n",
              "       [1],\n",
              "       [1],\n",
              "       [1],\n",
              "       [0],\n",
              "       [0],\n",
              "       [0],\n",
              "       [0],\n",
              "       [0]])"
            ]
          },
          "metadata": {},
          "execution_count": 263
        }
      ]
    },
    {
      "cell_type": "code",
      "source": [
        "non_idx = np.where(test_set_y[:,0] == 0.)[0]\n",
        "yes_idx = np.where(test_set_y[:,0] == 1.)[0]"
      ],
      "metadata": {
        "id": "lKAoRQCkRIg3"
      },
      "execution_count": null,
      "outputs": []
    },
    {
      "cell_type": "code",
      "source": [
        "plt.plot([y_hat[i] for i in yes_idx], 'bo')\n",
        "plt.show()\n",
        "plt.plot([y_hat[i] for i in non_idx], 'ro')\n",
        "plt.show()"
      ],
      "metadata": {
        "colab": {
          "base_uri": "https://localhost:8080/",
          "height": 513
        },
        "id": "CyE6BHKqNx_8",
        "outputId": "967c598d-d874-4f72-f19b-657e539c184f"
      },
      "execution_count": null,
      "outputs": [
        {
          "output_type": "display_data",
          "data": {
            "text/plain": [
              "<Figure size 432x288 with 1 Axes>"
            ],
            "image/png": "[encoded data removed]"
          },
          "metadata": {
            "needs_background": "light"
          }
        },
        {
          "output_type": "display_data",
          "data": {
            "text/plain": [
              "<Figure size 432x288 with 1 Axes>"
            ],
            "image/png": "[encoded data removed]"
          },
          "metadata": {
            "needs_background": "light"
          }
        }
      ]
    },
    {
      "cell_type": "markdown",
      "source": [
        "## Conclusion \n",
        "\n",
        "Looking at our prediction values we can see that our cutoff is most likely around .97-.98. While there are a few points above this that are miscategorized, the purpose of this system, like many other ML systems, is as a tool to aid researchers combing through mountains of data. Based on our model researchers would have to review 6 points with a .98 cutoff out of 3000 stars. Each star with over 3000 observations. This is a big time save. \n",
        "\n",
        "For future iterations, we would like to continue to take a look at the SGD optimizer. It is currently at its default values, but adjusting such values could improve the model. We could also look at more variations of CNN such as ResNet or AlexNet. \n",
        "\n",
        "Overall, we accomplished what we set out to do and created a good base to carry out further research on this topic. \n"
      ],
      "metadata": {
        "id": "NT3VHz0GsXwk"
      }
    }
  ]
}